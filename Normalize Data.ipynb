{
 "cells": [
  {
   "cell_type": "code",
   "execution_count": null,
   "metadata": {},
   "outputs": [],
   "source": [
    "from scipy.stats import skew\n",
    "from scipy import stats\n",
    "from sklearn.preprocessing import LabelEncoder,OneHotEncoder"
   ]
  },
  {
   "cell_type": "code",
   "execution_count": null,
   "metadata": {},
   "outputs": [],
   "source": [
    "def numericorcategorical(dt):\n",
    "    dt_columns=dt.columns\n",
    "    for c in dt_columns:\n",
    "        if dt[c].dtype != \"object\":\n",
    "            dt[c] = Normalize(dt[c])\n",
    "        else:\n",
    "            onehot_encoded = OneHot(dt[c], c)\n",
    "            dt = dt.join(onehot_encoded)\n",
    "            dt = dt.drop([c], axis=1)\n",
    "    return dt"
   ]
  },
  {
   "cell_type": "code",
   "execution_count": null,
   "metadata": {},
   "outputs": [],
   "source": [
    "def Normalize(X_skewed, skew_threshold = 2):\n",
    "   if skew(X_skewed)>abs(skew_threshold):\n",
    "       X_Normalized, lambda = stats.boxcox(X_skewed)\n",
    "   return X_Normalized\n",
    "\n",
    "\n",
    "def OneHot(X_column, column_name):\n",
    "    #Labe Encoding\n",
    "    lbl = LabelEncoder() \n",
    "    lbl.fit(list(X_column.values)) \n",
    "    X_labelencoded = lbl.transform(list(X_column.values))\n",
    "    #One Hot encoding\n",
    "    onehot_encoded=pd.get_dummies(X_labelencoded, prefix=column_name)\n",
    "    #onehot_encoder = OneHotEncoder(sparse=False)\n",
    "    #onehot_encoded = onehot_encoder.fit_transform(X_labelencoded.reshape(-1,1))\n",
    "    return onehot_encoded\n"
   ]
  }
 ],
 "metadata": {
  "language_info": {
   "codemirror_mode": {
    "name": "ipython",
    "version": 3
   },
   "file_extension": ".py",
   "mimetype": "text/x-python",
   "name": "python",
   "nbconvert_exporter": "python",
   "pygments_lexer": "ipython3",
   "version": 3
  },
  "orig_nbformat": 2
 },
 "nbformat": 4,
 "nbformat_minor": 2
}