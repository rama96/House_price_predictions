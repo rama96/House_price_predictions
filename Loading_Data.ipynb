{
 "cells": [
  {
   "cell_type": "markdown",
   "metadata": {},
   "source": [
    "# Importing Packages"
   ]
  },
  {
   "cell_type": "code",
   "execution_count": 1,
   "metadata": {},
   "outputs": [
    {
     "output_type": "error",
     "ename": "XGBoostError",
     "evalue": "XGBoost Library (libxgboost.so) could not be loaded.\nLikely causes:\n  * OpenMP runtime is not installed (vcomp140.dll or libgomp-1.dll for Windows, libomp.dylib for Mac OSX, libgomp.so for Linux and other UNIX-like OSes). Mac OSX users: Run `brew install libomp` to install OpenMP runtime.\n  * You are running 32-bit Python on a 64-bit OS\nError message(s): ['libgomp.so.1: cannot open shared object file: No such file or directory']\n",
     "traceback": [
      "\u001b[0;31m---------------------------------------------------------------------------\u001b[0m",
      "\u001b[0;31mXGBoostError\u001b[0m                              Traceback (most recent call last)",
      "\u001b[0;32m<ipython-input-3-104487fb16b9>\u001b[0m in \u001b[0;36m<module>\u001b[0;34m\u001b[0m\n\u001b[1;32m      6\u001b[0m \u001b[0;32mimport\u001b[0m \u001b[0msklearn\u001b[0m\u001b[0;34m.\u001b[0m\u001b[0mlinear_model\u001b[0m \u001b[0;32mas\u001b[0m \u001b[0mlinear_model\u001b[0m\u001b[0;34m\u001b[0m\u001b[0;34m\u001b[0m\u001b[0m\n\u001b[1;32m      7\u001b[0m \u001b[0;32mimport\u001b[0m \u001b[0mseaborn\u001b[0m \u001b[0;32mas\u001b[0m \u001b[0msns\u001b[0m\u001b[0;34m\u001b[0m\u001b[0;34m\u001b[0m\u001b[0m\n\u001b[0;32m----> 8\u001b[0;31m \u001b[0;32mimport\u001b[0m \u001b[0mxgboost\u001b[0m \u001b[0;32mas\u001b[0m \u001b[0mxgb\u001b[0m\u001b[0;34m\u001b[0m\u001b[0;34m\u001b[0m\u001b[0m\n\u001b[0m",
      "\u001b[0;32m~/Pet_Projects/env/lib/python3.7/site-packages/xgboost/__init__.py\u001b[0m in \u001b[0;36m<module>\u001b[0;34m\u001b[0m\n\u001b[1;32m      9\u001b[0m \u001b[0;32mimport\u001b[0m \u001b[0mwarnings\u001b[0m\u001b[0;34m\u001b[0m\u001b[0;34m\u001b[0m\u001b[0m\n\u001b[1;32m     10\u001b[0m \u001b[0;34m\u001b[0m\u001b[0m\n\u001b[0;32m---> 11\u001b[0;31m \u001b[0;32mfrom\u001b[0m \u001b[0;34m.\u001b[0m\u001b[0mcore\u001b[0m \u001b[0;32mimport\u001b[0m \u001b[0mDMatrix\u001b[0m\u001b[0;34m,\u001b[0m \u001b[0mDeviceQuantileDMatrix\u001b[0m\u001b[0;34m,\u001b[0m \u001b[0mBooster\u001b[0m\u001b[0;34m\u001b[0m\u001b[0;34m\u001b[0m\u001b[0m\n\u001b[0m\u001b[1;32m     12\u001b[0m \u001b[0;32mfrom\u001b[0m \u001b[0;34m.\u001b[0m\u001b[0mtraining\u001b[0m \u001b[0;32mimport\u001b[0m \u001b[0mtrain\u001b[0m\u001b[0;34m,\u001b[0m \u001b[0mcv\u001b[0m\u001b[0;34m\u001b[0m\u001b[0;34m\u001b[0m\u001b[0m\n\u001b[1;32m     13\u001b[0m \u001b[0;32mfrom\u001b[0m \u001b[0;34m.\u001b[0m \u001b[0;32mimport\u001b[0m \u001b[0mrabit\u001b[0m  \u001b[0;31m# noqa\u001b[0m\u001b[0;34m\u001b[0m\u001b[0;34m\u001b[0m\u001b[0m\n",
      "\u001b[0;32m~/Pet_Projects/env/lib/python3.7/site-packages/xgboost/core.py\u001b[0m in \u001b[0;36m<module>\u001b[0;34m\u001b[0m\n\u001b[1;32m    173\u001b[0m \u001b[0;34m\u001b[0m\u001b[0m\n\u001b[1;32m    174\u001b[0m \u001b[0;31m# load the XGBoost library globally\u001b[0m\u001b[0;34m\u001b[0m\u001b[0;34m\u001b[0m\u001b[0;34m\u001b[0m\u001b[0m\n\u001b[0;32m--> 175\u001b[0;31m \u001b[0m_LIB\u001b[0m \u001b[0;34m=\u001b[0m \u001b[0m_load_lib\u001b[0m\u001b[0;34m(\u001b[0m\u001b[0;34m)\u001b[0m\u001b[0;34m\u001b[0m\u001b[0;34m\u001b[0m\u001b[0m\n\u001b[0m\u001b[1;32m    176\u001b[0m \u001b[0;34m\u001b[0m\u001b[0m\n\u001b[1;32m    177\u001b[0m \u001b[0;34m\u001b[0m\u001b[0m\n",
      "\u001b[0;32m~/Pet_Projects/env/lib/python3.7/site-packages/xgboost/core.py\u001b[0m in \u001b[0;36m_load_lib\u001b[0;34m()\u001b[0m\n\u001b[1;32m    164\u001b[0m             \u001b[0;34m'`brew install libomp` to install OpenMP runtime.\\n'\u001b[0m \u001b[0;34m+\u001b[0m\u001b[0;34m\u001b[0m\u001b[0;34m\u001b[0m\u001b[0m\n\u001b[1;32m    165\u001b[0m             \u001b[0;34m'  * You are running 32-bit Python on a 64-bit OS\\n'\u001b[0m \u001b[0;34m+\u001b[0m\u001b[0;34m\u001b[0m\u001b[0;34m\u001b[0m\u001b[0m\n\u001b[0;32m--> 166\u001b[0;31m             'Error message(s): {}\\n'.format(os_error_list))\n\u001b[0m\u001b[1;32m    167\u001b[0m     \u001b[0mlib\u001b[0m\u001b[0;34m.\u001b[0m\u001b[0mXGBGetLastError\u001b[0m\u001b[0;34m.\u001b[0m\u001b[0mrestype\u001b[0m \u001b[0;34m=\u001b[0m \u001b[0mctypes\u001b[0m\u001b[0;34m.\u001b[0m\u001b[0mc_char_p\u001b[0m\u001b[0;34m\u001b[0m\u001b[0;34m\u001b[0m\u001b[0m\n\u001b[1;32m    168\u001b[0m     \u001b[0mlib\u001b[0m\u001b[0;34m.\u001b[0m\u001b[0mcallback\u001b[0m \u001b[0;34m=\u001b[0m \u001b[0m_get_log_callback_func\u001b[0m\u001b[0;34m(\u001b[0m\u001b[0;34m)\u001b[0m\u001b[0;34m\u001b[0m\u001b[0;34m\u001b[0m\u001b[0m\n",
      "\u001b[0;31mXGBoostError\u001b[0m: XGBoost Library (libxgboost.so) could not be loaded.\nLikely causes:\n  * OpenMP runtime is not installed (vcomp140.dll or libgomp-1.dll for Windows, libomp.dylib for Mac OSX, libgomp.so for Linux and other UNIX-like OSes). Mac OSX users: Run `brew install libomp` to install OpenMP runtime.\n  * You are running 32-bit Python on a 64-bit OS\nError message(s): ['libgomp.so.1: cannot open shared object file: No such file or directory']\n"
     ]
    }
   ],
   "source": [
    "import pandas as pd\n",
    "import numpy as np \n",
    "import tensorflow as tf\n",
    "import matplotlib.pyplot as plt\n",
    "import scipy.stats as stats\n",
    "import sklearn.linear_model as linear_model\n",
    "import seaborn as sns\n",
    "import xgboost as xgb\n",
    "from sklearn.experimental import enable_iterative_imputer  # noqa\n",
    "# now you can import normally from sklearn.impute\n",
    "from sklearn.impute import IterativeImputer\n",
    "from sklearn.ensemble import ExtraTreesRegressor\n",
    "#from sklearn.neighbors import KNeighborsRegressor\n",
    "from sklearn.preprocessing import OrdinalEncoder\n",
    "from sklearn.impute import SimpleImputer\n",
    "\n"
   ]
  },
  {
   "cell_type": "markdown",
   "metadata": {},
   "source": [
    "## Reading Train and test data "
   ]
  },
  {
   "cell_type": "code",
   "execution_count": 2,
   "metadata": {},
   "outputs": [
    {
     "name": "stdout",
     "output_type": "stream",
     "text": [
      "Train_data_head\n"
     ]
    },
    {
     "data": {
      "text/plain": [
       "80"
      ]
     },
     "execution_count": 2,
     "metadata": {},
     "output_type": "execute_result"
    }
   ],
   "source": [
    "test_data = pd.read_csv(\"~/Pet_Projects/House_price_predictions/house-prices-raw/test.csv\")\n",
    "train_data = pd.read_csv(\"~/Pet_Projects/House_price_predictions/house-prices-raw/train.csv\")\n",
    "print(\"Train_data_head\")\n",
    "train_y = train_data['SalePrice']\n",
    "train_x = train_data.drop('SalePrice',1)\n",
    "test_x = test_data\n",
    "df_prepare = pd.concat([train_x,test_x]).reset_index(drop = True) \n",
    "df_prepare.drop('Id',1,inplace=True)\n",
    "len(train_x.columns)\n",
    "#df_prepare"
   ]
  },
  {
   "cell_type": "markdown",
   "metadata": {},
   "source": [
    "## Missing Data Distribution "
   ]
  },
  {
   "cell_type": "code",
   "execution_count": 4,
   "metadata": {},
   "outputs": [],
   "source": [
    "def missing_data_distribution(df):\n",
    "    missing = df.isnull().sum()\n",
    "    missing = missing[missing > 0]\n",
    "    missing = missing/len(df_prepare)\n",
    "    missing.sort_values(ascending = False, inplace=True)\n",
    "    missing = missing * 100\n",
    "    missing.plot.bar()\n",
    "    print(missing.head(20))"
   ]
  },
  {
   "cell_type": "code",
   "execution_count": 5,
   "metadata": {},
   "outputs": [
    {
     "name": "stdout",
     "output_type": "stream",
     "text": [
      "PoolQC          99.657417\n",
      "MiscFeature     96.402878\n",
      "Alley           93.216855\n",
      "Fence           80.438506\n",
      "FireplaceQu     48.646797\n",
      "LotFrontage     16.649538\n",
      "GarageFinish     5.447071\n",
      "GarageYrBlt      5.447071\n",
      "GarageQual       5.447071\n",
      "GarageCond       5.447071\n",
      "GarageType       5.378554\n",
      "BsmtExposure     2.809181\n",
      "BsmtCond         2.809181\n",
      "BsmtQual         2.774923\n",
      "BsmtFinType2     2.740665\n",
      "BsmtFinType1     2.706406\n",
      "MasVnrType       0.822199\n",
      "MasVnrArea       0.787941\n",
      "MSZoning         0.137033\n",
      "BsmtFullBath     0.068517\n",
      "dtype: float64\n"
     ]
    },
    {
     "data": {
      "image/png": "[encoded data removed]",
      "text/plain": [
       "<Figure size 432x288 with 1 Axes>"
      ]
     },
     "metadata": {
      "needs_background": "light"
     },
     "output_type": "display_data"
    }
   ],
   "source": [
    "missing_data_distribution(df_prepare)"
   ]
  },
  {
   "cell_type": "code",
   "execution_count": 6,
   "metadata": {},
   "outputs": [],
   "source": [
    "## PoolQC , Alley , Fence , MiscFeature ,FireplaceQu Missing for more than 50% of the data \n",
    "columns_to_be_dropped = ['MiscFeature']\n"
   ]
  },
  {
   "cell_type": "markdown",
   "metadata": {},
   "source": [
    "## Seperating  Numeric and CategoricalData"
   ]
  },
  {
   "cell_type": "code",
   "execution_count": 7,
   "metadata": {},
   "outputs": [],
   "source": [
    "def seperating_data(df):\n",
    "    numeric_data = df.select_dtypes(include=[np.number])\n",
    "    categorical_data = df.select_dtypes(exclude=[np.number])\n",
    "    print(numeric_data.head())\n",
    "    print(categorical_data.head())\n",
    "    return numeric_data,categorical_data\n",
    "#categorical_data.head()"
   ]
  },
  {
   "cell_type": "code",
   "execution_count": 8,
   "metadata": {},
   "outputs": [
    {
     "name": "stdout",
     "output_type": "stream",
     "text": [
      "   MSSubClass  LotFrontage  LotArea  OverallQual  OverallCond  YearBuilt  \\\n",
      "0          60         65.0     8450            7            5       2003   \n",
      "1          20         80.0     9600            6            8       1976   \n",
      "2          60         68.0    11250            7            5       2001   \n",
      "3          70         60.0     9550            7            5       1915   \n",
      "4          60         84.0    14260            8            5       2000   \n",
      "\n",
      "   YearRemodAdd  MasVnrArea  BsmtFinSF1  BsmtFinSF2  ...  GarageArea  \\\n",
      "0          2003       196.0       706.0         0.0  ...       548.0   \n",
      "1          1976         0.0       978.0         0.0  ...       460.0   \n",
      "2          2002       162.0       486.0         0.0  ...       608.0   \n",
      "3          1970         0.0       216.0         0.0  ...       642.0   \n",
      "4          2000       350.0       655.0         0.0  ...       836.0   \n",
      "\n",
      "   WoodDeckSF  OpenPorchSF  EnclosedPorch  3SsnPorch  ScreenPorch  PoolArea  \\\n",
      "0           0           61              0          0            0         0   \n",
      "1         298            0              0          0            0         0   \n",
      "2           0           42              0          0            0         0   \n",
      "3           0           35            272          0            0         0   \n",
      "4         192           84              0          0            0         0   \n",
      "\n",
      "   MiscVal  MoSold  YrSold  \n",
      "0        0       2    2008  \n",
      "1        0       5    2007  \n",
      "2        0       9    2008  \n",
      "3        0       2    2006  \n",
      "4        0      12    2008  \n",
      "\n",
      "[5 rows x 36 columns]\n",
      "  MSZoning Street Alley LotShape LandContour Utilities LotConfig LandSlope  \\\n",
      "0       RL   Pave   NaN      Reg         Lvl    AllPub    Inside       Gtl   \n",
      "1       RL   Pave   NaN      Reg         Lvl    AllPub       FR2       Gtl   \n",
      "2       RL   Pave   NaN      IR1         Lvl    AllPub    Inside       Gtl   \n",
      "3       RL   Pave   NaN      IR1         Lvl    AllPub    Corner       Gtl   \n",
      "4       RL   Pave   NaN      IR1         Lvl    AllPub       FR2       Gtl   \n",
      "\n",
      "  Neighborhood Condition1  ... GarageType GarageFinish GarageQual GarageCond  \\\n",
      "0      CollgCr       Norm  ...     Attchd          RFn         TA         TA   \n",
      "1      Veenker      Feedr  ...     Attchd          RFn         TA         TA   \n",
      "2      CollgCr       Norm  ...     Attchd          RFn         TA         TA   \n",
      "3      Crawfor       Norm  ...     Detchd          Unf         TA         TA   \n",
      "4      NoRidge       Norm  ...     Attchd          RFn         TA         TA   \n",
      "\n",
      "  PavedDrive PoolQC Fence MiscFeature SaleType SaleCondition  \n",
      "0          Y    NaN   NaN         NaN       WD        Normal  \n",
      "1          Y    NaN   NaN         NaN       WD        Normal  \n",
      "2          Y    NaN   NaN         NaN       WD        Normal  \n",
      "3          Y    NaN   NaN         NaN       WD       Abnorml  \n",
      "4          Y    NaN   NaN         NaN       WD        Normal  \n",
      "\n",
      "[5 rows x 43 columns]\n"
     ]
    }
   ],
   "source": [
    "numeric_data,categorical_data = seperating_data(df_prepare)"
   ]
  },
  {
   "cell_type": "code",
   "execution_count": 9,
   "metadata": {},
   "outputs": [],
   "source": [
    "#df.replace('?',np.NaN,inplace=True)\n",
    "#imp=SimpleImputer(missing_values=np.NaN)\n",
    "#idf=pd.DataFrame(imp.fit_transform(df))\n",
    "#idf.columns=df.columns\n",
    "#idf.index=df.index\n",
    "#idf['bare_nuclei'].isna().sum()"
   ]
  },
  {
   "cell_type": "markdown",
   "metadata": {},
   "source": [
    "## Impute missing values using SimpleImputer (Mean Value)"
   ]
  },
  {
   "cell_type": "code",
   "execution_count": 10,
   "metadata": {},
   "outputs": [],
   "source": [
    "\n",
    "def numerical_impute(df):\n",
    "    my_imputer = SimpleImputer()\n",
    "    new_data_1 = df.copy()\n",
    "    my_imputer = SimpleImputer()\n",
    "    new_data_1 = pd.DataFrame(my_imputer.fit_transform(new_data_1))\n",
    "    new_data_1.columns = numeric_data.columns\n",
    "    new_data_1.index = numeric_data.index\n",
    "    missing_new = new_data_1.isnull().sum()\n",
    "    print(missing_new)\n",
    "    return new_data_1\n"
   ]
  },
  {
   "cell_type": "code",
   "execution_count": 11,
   "metadata": {},
   "outputs": [
    {
     "name": "stdout",
     "output_type": "stream",
     "text": [
      "MSSubClass       0\n",
      "LotFrontage      0\n",
      "LotArea          0\n",
      "OverallQual      0\n",
      "OverallCond      0\n",
      "YearBuilt        0\n",
      "YearRemodAdd     0\n",
      "MasVnrArea       0\n",
      "BsmtFinSF1       0\n",
      "BsmtFinSF2       0\n",
      "BsmtUnfSF        0\n",
      "TotalBsmtSF      0\n",
      "1stFlrSF         0\n",
      "2ndFlrSF         0\n",
      "LowQualFinSF     0\n",
      "GrLivArea        0\n",
      "BsmtFullBath     0\n",
      "BsmtHalfBath     0\n",
      "FullBath         0\n",
      "HalfBath         0\n",
      "BedroomAbvGr     0\n",
      "KitchenAbvGr     0\n",
      "TotRmsAbvGrd     0\n",
      "Fireplaces       0\n",
      "GarageYrBlt      0\n",
      "GarageCars       0\n",
      "GarageArea       0\n",
      "WoodDeckSF       0\n",
      "OpenPorchSF      0\n",
      "EnclosedPorch    0\n",
      "3SsnPorch        0\n",
      "ScreenPorch      0\n",
      "PoolArea         0\n",
      "MiscVal          0\n",
      "MoSold           0\n",
      "YrSold           0\n",
      "dtype: int64\n"
     ]
    }
   ],
   "source": [
    "numeric_data = numerical_impute(numeric_data)"
   ]
  },
  {
   "cell_type": "code",
   "execution_count": 12,
   "metadata": {},
   "outputs": [],
   "source": [
    "#from sklearn_pandas import CategoricalImputer\n",
    "#new_data_2 = categorical_data.copy()\n",
    "#imputer = CategoricalImputer()\n",
    "#new_data_2 = pd.DataFrame(imputer.fit_transform(new_data_2))\n",
    "#new_data_2.columns = categorical_data.columns\n",
    "#new_data_2.index = categorical_data.index\n",
    "#missing_new_2 = new_data_2.isnull().sum()\n",
    "\n"
   ]
  },
  {
   "cell_type": "code",
   "execution_count": 13,
   "metadata": {},
   "outputs": [],
   "source": [
    "def encode(data):\n",
    "    '''function to encode non-null data and replace it in the original data'''\n",
    "    #retains only non-null values\n",
    "    nonulls = np.array(data.dropna())\n",
    "    #reshapes the data for encoding\n",
    "    impute_reshape = nonulls.reshape(-1,1)\n",
    "    #encode date\n",
    "    impute_ordinal = encoder.fit_transform(impute_reshape)\n",
    "    #Assign back encoded values to non-null values\n",
    "    data.loc[data.notnull()] = np.squeeze(impute_ordinal)\n",
    "    return data\n"
   ]
  },
  {
   "cell_type": "code",
   "execution_count": 14,
   "metadata": {},
   "outputs": [],
   "source": [
    "def categorical_impute(df):\n",
    "    #instantiate both packages to use\n",
    "    encoder = OrdinalEncoder()\n",
    "    imputer = IterativeImputer(ExtraTreesRegressor())\n",
    "    #create a list of categorical columns to iterate over\n",
    "    cat_cols = df.columns\n",
    "\n",
    "    def encode(data):\n",
    "        '''function to encode non-null data and replace it in the original data'''\n",
    "        #retains only non-null values\n",
    "        nonulls = np.array(data.dropna())\n",
    "        #reshapes the data for encoding\n",
    "        impute_reshape = nonulls.reshape(-1,1)\n",
    "        #encode date\n",
    "        impute_ordinal = encoder.fit_transform(impute_reshape)\n",
    "        #Assign back encoded values to non-null values\n",
    "        data.loc[data.notnull()] = np.squeeze(impute_ordinal)\n",
    "        return data\n",
    "\n",
    "    #create a for loop to iterate through each column in the data\n",
    "    for columns in cat_cols:\n",
    "        encode(df[columns])\n",
    "    encode_data = pd.DataFrame(np.round(imputer.fit_transform(df)),columns = df.columns)\n",
    "    return encode_data\n"
   ]
  },
  {
   "cell_type": "code",
   "execution_count": 15,
   "metadata": {},
   "outputs": [
    {
     "name": "stderr",
     "output_type": "stream",
     "text": [
      "/home/naruto_uzumaki/Pet_Projects/env/lib/python3.8/site-packages/pandas/core/indexing.py:671: SettingWithCopyWarning: \n",
      "A value is trying to be set on a copy of a slice from a DataFrame\n",
      "\n",
      "See the caveats in the documentation: https://pandas.pydata.org/pandas-docs/stable/user_guide/indexing.html#returning-a-view-versus-a-copy\n",
      "  self._setitem_with_indexer(indexer, value)\n",
      "/home/naruto_uzumaki/Pet_Projects/env/lib/python3.8/site-packages/pandas/core/indexing.py:671: SettingWithCopyWarning: \n",
      "A value is trying to be set on a copy of a slice from a DataFrame\n",
      "\n",
      "See the caveats in the documentation: https://pandas.pydata.org/pandas-docs/stable/user_guide/indexing.html#returning-a-view-versus-a-copy\n",
      "  self._setitem_with_indexer(indexer, value)\n",
      "/home/naruto_uzumaki/Pet_Projects/env/lib/python3.8/site-packages/pandas/core/indexing.py:671: SettingWithCopyWarning: \n",
      "A value is trying to be set on a copy of a slice from a DataFrame\n",
      "\n",
      "See the caveats in the documentation: https://pandas.pydata.org/pandas-docs/stable/user_guide/indexing.html#returning-a-view-versus-a-copy\n",
      "  self._setitem_with_indexer(indexer, value)\n",
      "/home/naruto_uzumaki/Pet_Projects/env/lib/python3.8/site-packages/pandas/core/indexing.py:671: SettingWithCopyWarning: \n",
      "A value is trying to be set on a copy of a slice from a DataFrame\n",
      "\n",
      "See the caveats in the documentation: https://pandas.pydata.org/pandas-docs/stable/user_guide/indexing.html#returning-a-view-versus-a-copy\n",
      "  self._setitem_with_indexer(indexer, value)\n",
      "/home/naruto_uzumaki/Pet_Projects/env/lib/python3.8/site-packages/pandas/core/indexing.py:671: SettingWithCopyWarning: \n",
      "A value is trying to be set on a copy of a slice from a DataFrame\n",
      "\n",
      "See the caveats in the documentation: https://pandas.pydata.org/pandas-docs/stable/user_guide/indexing.html#returning-a-view-versus-a-copy\n",
      "  self._setitem_with_indexer(indexer, value)\n",
      "/home/naruto_uzumaki/Pet_Projects/env/lib/python3.8/site-packages/pandas/core/indexing.py:671: SettingWithCopyWarning: \n",
      "A value is trying to be set on a copy of a slice from a DataFrame\n",
      "\n",
      "See the caveats in the documentation: https://pandas.pydata.org/pandas-docs/stable/user_guide/indexing.html#returning-a-view-versus-a-copy\n",
      "  self._setitem_with_indexer(indexer, value)\n",
      "/home/naruto_uzumaki/Pet_Projects/env/lib/python3.8/site-packages/pandas/core/indexing.py:671: SettingWithCopyWarning: \n",
      "A value is trying to be set on a copy of a slice from a DataFrame\n",
      "\n",
      "See the caveats in the documentation: https://pandas.pydata.org/pandas-docs/stable/user_guide/indexing.html#returning-a-view-versus-a-copy\n",
      "  self._setitem_with_indexer(indexer, value)\n",
      "/home/naruto_uzumaki/Pet_Projects/env/lib/python3.8/site-packages/pandas/core/indexing.py:671: SettingWithCopyWarning: \n",
      "A value is trying to be set on a copy of a slice from a DataFrame\n",
      "\n",
      "See the caveats in the documentation: https://pandas.pydata.org/pandas-docs/stable/user_guide/indexing.html#returning-a-view-versus-a-copy\n",
      "  self._setitem_with_indexer(indexer, value)\n",
      "/home/naruto_uzumaki/Pet_Projects/env/lib/python3.8/site-packages/pandas/core/indexing.py:671: SettingWithCopyWarning: \n",
      "A value is trying to be set on a copy of a slice from a DataFrame\n",
      "\n",
      "See the caveats in the documentation: https://pandas.pydata.org/pandas-docs/stable/user_guide/indexing.html#returning-a-view-versus-a-copy\n",
      "  self._setitem_with_indexer(indexer, value)\n",
      "/home/naruto_uzumaki/Pet_Projects/env/lib/python3.8/site-packages/pandas/core/indexing.py:671: SettingWithCopyWarning: \n",
      "A value is trying to be set on a copy of a slice from a DataFrame\n",
      "\n",
      "See the caveats in the documentation: https://pandas.pydata.org/pandas-docs/stable/user_guide/indexing.html#returning-a-view-versus-a-copy\n",
      "  self._setitem_with_indexer(indexer, value)\n",
      "/home/naruto_uzumaki/Pet_Projects/env/lib/python3.8/site-packages/pandas/core/indexing.py:671: SettingWithCopyWarning: \n",
      "A value is trying to be set on a copy of a slice from a DataFrame\n",
      "\n",
      "See the caveats in the documentation: https://pandas.pydata.org/pandas-docs/stable/user_guide/indexing.html#returning-a-view-versus-a-copy\n",
      "  self._setitem_with_indexer(indexer, value)\n",
      "/home/naruto_uzumaki/Pet_Projects/env/lib/python3.8/site-packages/pandas/core/indexing.py:671: SettingWithCopyWarning: \n",
      "A value is trying to be set on a copy of a slice from a DataFrame\n",
      "\n",
      "See the caveats in the documentation: https://pandas.pydata.org/pandas-docs/stable/user_guide/indexing.html#returning-a-view-versus-a-copy\n",
      "  self._setitem_with_indexer(indexer, value)\n",
      "/home/naruto_uzumaki/Pet_Projects/env/lib/python3.8/site-packages/pandas/core/indexing.py:671: SettingWithCopyWarning: \n",
      "A value is trying to be set on a copy of a slice from a DataFrame\n",
      "\n",
      "See the caveats in the documentation: https://pandas.pydata.org/pandas-docs/stable/user_guide/indexing.html#returning-a-view-versus-a-copy\n",
      "  self._setitem_with_indexer(indexer, value)\n",
      "/home/naruto_uzumaki/Pet_Projects/env/lib/python3.8/site-packages/pandas/core/indexing.py:671: SettingWithCopyWarning: \n",
      "A value is trying to be set on a copy of a slice from a DataFrame\n",
      "\n",
      "See the caveats in the documentation: https://pandas.pydata.org/pandas-docs/stable/user_guide/indexing.html#returning-a-view-versus-a-copy\n",
      "  self._setitem_with_indexer(indexer, value)\n",
      "/home/naruto_uzumaki/Pet_Projects/env/lib/python3.8/site-packages/pandas/core/indexing.py:671: SettingWithCopyWarning: \n",
      "A value is trying to be set on a copy of a slice from a DataFrame\n",
      "\n",
      "See the caveats in the documentation: https://pandas.pydata.org/pandas-docs/stable/user_guide/indexing.html#returning-a-view-versus-a-copy\n",
      "  self._setitem_with_indexer(indexer, value)\n",
      "/home/naruto_uzumaki/Pet_Projects/env/lib/python3.8/site-packages/pandas/core/indexing.py:671: SettingWithCopyWarning: \n",
      "A value is trying to be set on a copy of a slice from a DataFrame\n",
      "\n",
      "See the caveats in the documentation: https://pandas.pydata.org/pandas-docs/stable/user_guide/indexing.html#returning-a-view-versus-a-copy\n",
      "  self._setitem_with_indexer(indexer, value)\n",
      "/home/naruto_uzumaki/Pet_Projects/env/lib/python3.8/site-packages/pandas/core/indexing.py:671: SettingWithCopyWarning: \n",
      "A value is trying to be set on a copy of a slice from a DataFrame\n",
      "\n",
      "See the caveats in the documentation: https://pandas.pydata.org/pandas-docs/stable/user_guide/indexing.html#returning-a-view-versus-a-copy\n",
      "  self._setitem_with_indexer(indexer, value)\n",
      "/home/naruto_uzumaki/Pet_Projects/env/lib/python3.8/site-packages/pandas/core/indexing.py:671: SettingWithCopyWarning: \n",
      "A value is trying to be set on a copy of a slice from a DataFrame\n",
      "\n",
      "See the caveats in the documentation: https://pandas.pydata.org/pandas-docs/stable/user_guide/indexing.html#returning-a-view-versus-a-copy\n",
      "  self._setitem_with_indexer(indexer, value)\n",
      "/home/naruto_uzumaki/Pet_Projects/env/lib/python3.8/site-packages/pandas/core/indexing.py:671: SettingWithCopyWarning: \n",
      "A value is trying to be set on a copy of a slice from a DataFrame\n",
      "\n",
      "See the caveats in the documentation: https://pandas.pydata.org/pandas-docs/stable/user_guide/indexing.html#returning-a-view-versus-a-copy\n",
      "  self._setitem_with_indexer(indexer, value)\n",
      "/home/naruto_uzumaki/Pet_Projects/env/lib/python3.8/site-packages/pandas/core/indexing.py:671: SettingWithCopyWarning: \n",
      "A value is trying to be set on a copy of a slice from a DataFrame\n",
      "\n",
      "See the caveats in the documentation: https://pandas.pydata.org/pandas-docs/stable/user_guide/indexing.html#returning-a-view-versus-a-copy\n",
      "  self._setitem_with_indexer(indexer, value)\n",
      "/home/naruto_uzumaki/Pet_Projects/env/lib/python3.8/site-packages/pandas/core/indexing.py:671: SettingWithCopyWarning: \n",
      "A value is trying to be set on a copy of a slice from a DataFrame\n",
      "\n",
      "See the caveats in the documentation: https://pandas.pydata.org/pandas-docs/stable/user_guide/indexing.html#returning-a-view-versus-a-copy\n",
      "  self._setitem_with_indexer(indexer, value)\n",
      "/home/naruto_uzumaki/Pet_Projects/env/lib/python3.8/site-packages/pandas/core/indexing.py:671: SettingWithCopyWarning: \n",
      "A value is trying to be set on a copy of a slice from a DataFrame\n",
      "\n",
      "See the caveats in the documentation: https://pandas.pydata.org/pandas-docs/stable/user_guide/indexing.html#returning-a-view-versus-a-copy\n",
      "  self._setitem_with_indexer(indexer, value)\n",
      "/home/naruto_uzumaki/Pet_Projects/env/lib/python3.8/site-packages/pandas/core/indexing.py:671: SettingWithCopyWarning: \n",
      "A value is trying to be set on a copy of a slice from a DataFrame\n",
      "\n",
      "See the caveats in the documentation: https://pandas.pydata.org/pandas-docs/stable/user_guide/indexing.html#returning-a-view-versus-a-copy\n",
      "  self._setitem_with_indexer(indexer, value)\n",
      "/home/naruto_uzumaki/Pet_Projects/env/lib/python3.8/site-packages/pandas/core/indexing.py:671: SettingWithCopyWarning: \n",
      "A value is trying to be set on a copy of a slice from a DataFrame\n",
      "\n",
      "See the caveats in the documentation: https://pandas.pydata.org/pandas-docs/stable/user_guide/indexing.html#returning-a-view-versus-a-copy\n",
      "  self._setitem_with_indexer(indexer, value)\n",
      "/home/naruto_uzumaki/Pet_Projects/env/lib/python3.8/site-packages/pandas/core/indexing.py:671: SettingWithCopyWarning: \n",
      "A value is trying to be set on a copy of a slice from a DataFrame\n",
      "\n",
      "See the caveats in the documentation: https://pandas.pydata.org/pandas-docs/stable/user_guide/indexing.html#returning-a-view-versus-a-copy\n",
      "  self._setitem_with_indexer(indexer, value)\n",
      "/home/naruto_uzumaki/Pet_Projects/env/lib/python3.8/site-packages/pandas/core/indexing.py:671: SettingWithCopyWarning: \n",
      "A value is trying to be set on a copy of a slice from a DataFrame\n",
      "\n",
      "See the caveats in the documentation: https://pandas.pydata.org/pandas-docs/stable/user_guide/indexing.html#returning-a-view-versus-a-copy\n",
      "  self._setitem_with_indexer(indexer, value)\n",
      "/home/naruto_uzumaki/Pet_Projects/env/lib/python3.8/site-packages/pandas/core/indexing.py:671: SettingWithCopyWarning: \n",
      "A value is trying to be set on a copy of a slice from a DataFrame\n",
      "\n",
      "See the caveats in the documentation: https://pandas.pydata.org/pandas-docs/stable/user_guide/indexing.html#returning-a-view-versus-a-copy\n",
      "  self._setitem_with_indexer(indexer, value)\n",
      "/home/naruto_uzumaki/Pet_Projects/env/lib/python3.8/site-packages/pandas/core/indexing.py:671: SettingWithCopyWarning: \n",
      "A value is trying to be set on a copy of a slice from a DataFrame\n",
      "\n",
      "See the caveats in the documentation: https://pandas.pydata.org/pandas-docs/stable/user_guide/indexing.html#returning-a-view-versus-a-copy\n",
      "  self._setitem_with_indexer(indexer, value)\n",
      "/home/naruto_uzumaki/Pet_Projects/env/lib/python3.8/site-packages/pandas/core/indexing.py:671: SettingWithCopyWarning: \n",
      "A value is trying to be set on a copy of a slice from a DataFrame\n",
      "\n",
      "See the caveats in the documentation: https://pandas.pydata.org/pandas-docs/stable/user_guide/indexing.html#returning-a-view-versus-a-copy\n",
      "  self._setitem_with_indexer(indexer, value)\n",
      "/home/naruto_uzumaki/Pet_Projects/env/lib/python3.8/site-packages/pandas/core/indexing.py:671: SettingWithCopyWarning: \n",
      "A value is trying to be set on a copy of a slice from a DataFrame\n",
      "\n",
      "See the caveats in the documentation: https://pandas.pydata.org/pandas-docs/stable/user_guide/indexing.html#returning-a-view-versus-a-copy\n",
      "  self._setitem_with_indexer(indexer, value)\n",
      "/home/naruto_uzumaki/Pet_Projects/env/lib/python3.8/site-packages/pandas/core/indexing.py:671: SettingWithCopyWarning: \n",
      "A value is trying to be set on a copy of a slice from a DataFrame\n",
      "\n",
      "See the caveats in the documentation: https://pandas.pydata.org/pandas-docs/stable/user_guide/indexing.html#returning-a-view-versus-a-copy\n",
      "  self._setitem_with_indexer(indexer, value)\n",
      "/home/naruto_uzumaki/Pet_Projects/env/lib/python3.8/site-packages/pandas/core/indexing.py:671: SettingWithCopyWarning: \n",
      "A value is trying to be set on a copy of a slice from a DataFrame\n",
      "\n",
      "See the caveats in the documentation: https://pandas.pydata.org/pandas-docs/stable/user_guide/indexing.html#returning-a-view-versus-a-copy\n",
      "  self._setitem_with_indexer(indexer, value)\n",
      "/home/naruto_uzumaki/Pet_Projects/env/lib/python3.8/site-packages/pandas/core/indexing.py:671: SettingWithCopyWarning: \n",
      "A value is trying to be set on a copy of a slice from a DataFrame\n",
      "\n",
      "See the caveats in the documentation: https://pandas.pydata.org/pandas-docs/stable/user_guide/indexing.html#returning-a-view-versus-a-copy\n",
      "  self._setitem_with_indexer(indexer, value)\n",
      "/home/naruto_uzumaki/Pet_Projects/env/lib/python3.8/site-packages/pandas/core/indexing.py:671: SettingWithCopyWarning: \n",
      "A value is trying to be set on a copy of a slice from a DataFrame\n",
      "\n",
      "See the caveats in the documentation: https://pandas.pydata.org/pandas-docs/stable/user_guide/indexing.html#returning-a-view-versus-a-copy\n",
      "  self._setitem_with_indexer(indexer, value)\n",
      "/home/naruto_uzumaki/Pet_Projects/env/lib/python3.8/site-packages/pandas/core/indexing.py:671: SettingWithCopyWarning: \n",
      "A value is trying to be set on a copy of a slice from a DataFrame\n",
      "\n",
      "See the caveats in the documentation: https://pandas.pydata.org/pandas-docs/stable/user_guide/indexing.html#returning-a-view-versus-a-copy\n",
      "  self._setitem_with_indexer(indexer, value)\n",
      "/home/naruto_uzumaki/Pet_Projects/env/lib/python3.8/site-packages/pandas/core/indexing.py:671: SettingWithCopyWarning: \n",
      "A value is trying to be set on a copy of a slice from a DataFrame\n",
      "\n",
      "See the caveats in the documentation: https://pandas.pydata.org/pandas-docs/stable/user_guide/indexing.html#returning-a-view-versus-a-copy\n",
      "  self._setitem_with_indexer(indexer, value)\n",
      "/home/naruto_uzumaki/Pet_Projects/env/lib/python3.8/site-packages/pandas/core/indexing.py:671: SettingWithCopyWarning: \n",
      "A value is trying to be set on a copy of a slice from a DataFrame\n",
      "\n",
      "See the caveats in the documentation: https://pandas.pydata.org/pandas-docs/stable/user_guide/indexing.html#returning-a-view-versus-a-copy\n",
      "  self._setitem_with_indexer(indexer, value)\n",
      "/home/naruto_uzumaki/Pet_Projects/env/lib/python3.8/site-packages/pandas/core/indexing.py:671: SettingWithCopyWarning: \n",
      "A value is trying to be set on a copy of a slice from a DataFrame\n",
      "\n",
      "See the caveats in the documentation: https://pandas.pydata.org/pandas-docs/stable/user_guide/indexing.html#returning-a-view-versus-a-copy\n",
      "  self._setitem_with_indexer(indexer, value)\n",
      "/home/naruto_uzumaki/Pet_Projects/env/lib/python3.8/site-packages/pandas/core/indexing.py:671: SettingWithCopyWarning: \n",
      "A value is trying to be set on a copy of a slice from a DataFrame\n",
      "\n",
      "See the caveats in the documentation: https://pandas.pydata.org/pandas-docs/stable/user_guide/indexing.html#returning-a-view-versus-a-copy\n",
      "  self._setitem_with_indexer(indexer, value)\n",
      "/home/naruto_uzumaki/Pet_Projects/env/lib/python3.8/site-packages/pandas/core/indexing.py:671: SettingWithCopyWarning: \n",
      "A value is trying to be set on a copy of a slice from a DataFrame\n",
      "\n",
      "See the caveats in the documentation: https://pandas.pydata.org/pandas-docs/stable/user_guide/indexing.html#returning-a-view-versus-a-copy\n",
      "  self._setitem_with_indexer(indexer, value)\n",
      "/home/naruto_uzumaki/Pet_Projects/env/lib/python3.8/site-packages/pandas/core/indexing.py:671: SettingWithCopyWarning: \n",
      "A value is trying to be set on a copy of a slice from a DataFrame\n",
      "\n",
      "See the caveats in the documentation: https://pandas.pydata.org/pandas-docs/stable/user_guide/indexing.html#returning-a-view-versus-a-copy\n",
      "  self._setitem_with_indexer(indexer, value)\n"
     ]
    },
    {
     "name": "stderr",
     "output_type": "stream",
     "text": [
      "/home/naruto_uzumaki/Pet_Projects/env/lib/python3.8/site-packages/sklearn/impute/_iterative.py:669: ConvergenceWarning: [IterativeImputer] Early stopping criterion not reached.\n",
      "  warnings.warn(\"[IterativeImputer] Early stopping criterion not\"\n"
     ]
    },
    {
     "name": "stdout",
     "output_type": "stream",
     "text": [
      "      MSZoning  Street  Alley  LotShape  LandContour  Utilities  LotConfig  \\\n",
      "0          3.0     1.0    1.0       3.0          3.0        0.0        4.0   \n",
      "1          3.0     1.0    0.0       3.0          3.0        0.0        2.0   \n",
      "2          3.0     1.0    1.0       0.0          3.0        0.0        4.0   \n",
      "3          3.0     1.0    0.0       0.0          3.0        0.0        0.0   \n",
      "4          3.0     1.0    1.0       0.0          3.0        0.0        2.0   \n",
      "...        ...     ...    ...       ...          ...        ...        ...   \n",
      "2914       4.0     1.0    0.0       3.0          3.0        0.0        4.0   \n",
      "2915       4.0     1.0    0.0       3.0          3.0        0.0        4.0   \n",
      "2916       3.0     1.0    0.0       3.0          3.0        0.0        4.0   \n",
      "2917       3.0     1.0    0.0       3.0          3.0        0.0        4.0   \n",
      "2918       3.0     1.0    0.0       3.0          3.0        0.0        4.0   \n",
      "\n",
      "      LandSlope  Neighborhood  Condition1  ...  GarageType  GarageFinish  \\\n",
      "0           0.0           5.0         2.0  ...         1.0           1.0   \n",
      "1           0.0          24.0         1.0  ...         1.0           1.0   \n",
      "2           0.0           5.0         2.0  ...         1.0           1.0   \n",
      "3           0.0           6.0         2.0  ...         5.0           2.0   \n",
      "4           0.0          15.0         2.0  ...         1.0           1.0   \n",
      "...         ...           ...         ...  ...         ...           ...   \n",
      "2914        0.0          10.0         2.0  ...         2.0           2.0   \n",
      "2915        0.0          10.0         2.0  ...         4.0           2.0   \n",
      "2916        0.0          11.0         2.0  ...         5.0           2.0   \n",
      "2917        0.0          11.0         2.0  ...         3.0           1.0   \n",
      "2918        1.0          11.0         2.0  ...         1.0           0.0   \n",
      "\n",
      "      GarageQual  GarageCond  PavedDrive  PoolQC  Fence  MiscFeature  \\\n",
      "0            4.0         4.0         2.0     2.0    0.0          2.0   \n",
      "1            4.0         4.0         2.0     0.0    2.0          2.0   \n",
      "2            4.0         4.0         2.0     2.0    0.0          2.0   \n",
      "3            4.0         4.0         2.0     0.0    1.0          2.0   \n",
      "4            4.0         4.0         2.0     2.0    0.0          2.0   \n",
      "...          ...         ...         ...     ...    ...          ...   \n",
      "2914         4.0         3.0         2.0     0.0    0.0          2.0   \n",
      "2915         4.0         4.0         2.0     0.0    2.0          2.0   \n",
      "2916         4.0         4.0         2.0     0.0    1.0          2.0   \n",
      "2917         4.0         4.0         2.0     0.0    2.0          2.0   \n",
      "2918         4.0         4.0         2.0     1.0    2.0          2.0   \n",
      "\n",
      "      SaleType  SaleCondition  \n",
      "0          8.0            4.0  \n",
      "1          8.0            4.0  \n",
      "2          8.0            4.0  \n",
      "3          8.0            0.0  \n",
      "4          8.0            4.0  \n",
      "...        ...            ...  \n",
      "2914       8.0            4.0  \n",
      "2915       8.0            0.0  \n",
      "2916       8.0            0.0  \n",
      "2917       8.0            4.0  \n",
      "2918       8.0            4.0  \n",
      "\n",
      "[2919 rows x 43 columns]\n"
     ]
    }
   ],
   "source": [
    "new_data_2 = categorical_data.copy()\n",
    "a = categorical_impute(new_data_2)\n",
    "print(a)\n",
    "# encode_data"
   ]
  },
  {
   "cell_type": "code",
   "execution_count": null,
   "metadata": {},
   "outputs": [],
   "source": []
  },
  {
   "cell_type": "code",
   "execution_count": null,
   "metadata": {},
   "outputs": [],
   "source": [
    "## Feature Engineering Ideas :: Age of the house\n"
   ]
  },
  {
   "cell_type": "markdown",
   "metadata": {},
   "source": [
    "## Concat both numerical and categorical data"
   ]
  },
  {
   "cell_type": "code",
   "execution_count": null,
   "metadata": {},
   "outputs": [],
   "source": [
    "df_imputed = pd.concat([numeric_data.reset_index(drop=True), categorical_data], axis=1)\n",
    "df_imputed.fillna('None', inplace = True) \n",
    "missing_new = df_imputed.isnull().sum()\n",
    "missing_new.sort_values(ascending=False,inplace=True)\n",
    "missing_new.head(100)"
   ]
  },
  {
   "cell_type": "code",
   "execution_count": null,
   "metadata": {},
   "outputs": [],
   "source": []
  },
  {
   "cell_type": "code",
   "execution_count": null,
   "metadata": {},
   "outputs": [],
   "source": []
  }
 ],
 "metadata": {
  "kernelspec": {
   "display_name": "Python 3",
   "language": "python",
   "name": "python3"
  },
  "language_info": {
   "codemirror_mode": {
    "name": "ipython",
    "version": 3
   },
   "file_extension": ".py",
   "mimetype": "text/x-python",
   "name": "python",
   "nbconvert_exporter": "python",
   "pygments_lexer": "ipython3",
   "version": "3.8.0"
  }
 },
 "nbformat": 4,
 "nbformat_minor": 4
}