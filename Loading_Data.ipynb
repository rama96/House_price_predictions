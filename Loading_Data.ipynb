{
 "cells": [
  {
   "cell_type": "markdown",
   "metadata": {},
   "source": [
    "# Importing Packages"
   ]
  },
  {
   "cell_type": "code",
   "execution_count": 2,
   "metadata": {},
   "outputs": [],
   "source": [
    "import pandas as pd\n",
    "import numpy as np \n",
    "import tensorflow as tf\n",
    "import matplotlib.pyplot as plt\n",
    "import scipy.stats as stats\n",
    "import sklearn.linear_model as linear_model\n",
    "import seaborn as sns\n",
    "#import xgboost as xgb\n",
    "from sklearn.experimental import enable_iterative_imputer  # noqa\n",
    "# now you can import normally from sklearn.impute\n",
    "from sklearn.impute import IterativeImputer\n",
    "from sklearn.ensemble import ExtraTreesRegressor\n",
    "#from sklearn.neighbors import KNeighborsRegressor\n",
    "from sklearn.preprocessing import OrdinalEncoder\n",
    "from sklearn.impute import SimpleImputer\n",
    "\n"
   ]
  },
  {
   "cell_type": "markdown",
   "metadata": {},
   "source": [
    "## Reading Train and test data "
   ]
  },
  {
   "cell_type": "code",
   "execution_count": 3,
   "metadata": {},
   "outputs": [
    {
     "name": "stdout",
     "output_type": "stream",
     "text": [
      "Train_data_head\n"
     ]
    },
    {
     "data": {
      "text/plain": [
       "80"
      ]
     },
     "execution_count": 3,
     "metadata": {},
     "output_type": "execute_result"
    }
   ],
   "source": [
    "test_data = pd.read_csv(\"~/Pet_Projects/House_price_predictions/house-prices-raw/test.csv\")\n",
    "train_data = pd.read_csv(\"~/Pet_Projects/House_price_predictions/house-prices-raw/train.csv\")\n",
    "print(\"Train_data_head\")\n",
    "train_y = train_data['SalePrice']\n",
    "train_x = train_data.drop('SalePrice',1)\n",
    "test_x = test_data\n",
    "df_prepare = pd.concat([train_x,test_x]).reset_index(drop = True) \n",
    "df_prepare.drop('Id',1,inplace=True)\n",
    "len(train_x.columns)\n",
    "#df_prepare"
   ]
  },
  {
   "cell_type": "markdown",
   "metadata": {},
   "source": [
    "## Missing Data Distribution "
   ]
  },
  {
   "cell_type": "code",
   "execution_count": 4,
   "metadata": {},
   "outputs": [],
   "source": [
    "def missing_data_distribution(df):\n",
    "    missing = df.isnull().sum()\n",
    "    missing = missing[missing > 0]\n",
    "    missing = missing/len(df_prepare)\n",
    "    missing.sort_values(ascending = False, inplace=True)\n",
    "    missing = missing * 100\n",
    "    missing.plot.bar()\n",
    "    print(missing.head(20))"
   ]
  },
  {
   "cell_type": "code",
   "execution_count": 5,
   "metadata": {},
   "outputs": [
    {
     "name": "stdout",
     "output_type": "stream",
     "text": [
      "PoolQC          99.657417\n",
      "MiscFeature     96.402878\n",
      "Alley           93.216855\n",
      "Fence           80.438506\n",
      "FireplaceQu     48.646797\n",
      "LotFrontage     16.649538\n",
      "GarageFinish     5.447071\n",
      "GarageYrBlt      5.447071\n",
      "GarageQual       5.447071\n",
      "GarageCond       5.447071\n",
      "GarageType       5.378554\n",
      "BsmtExposure     2.809181\n",
      "BsmtCond         2.809181\n",
      "BsmtQual         2.774923\n",
      "BsmtFinType2     2.740665\n",
      "BsmtFinType1     2.706406\n",
      "MasVnrType       0.822199\n",
      "MasVnrArea       0.787941\n",
      "MSZoning         0.137033\n",
      "BsmtFullBath     0.068517\n",
      "dtype: float64\n"
     ]
    },
    {
     "data": {
      "image/png": "[encoded data removed]",
      "text/plain": [
       "<Figure size 432x288 with 1 Axes>"
      ]
     },
     "metadata": {
      "needs_background": "light"
     },
     "output_type": "display_data"
    }
   ],
   "source": [
    "missing_data_distribution(df_prepare)"
   ]
  },
  {
   "cell_type": "code",
   "execution_count": 6,
   "metadata": {},
   "outputs": [],
   "source": [
    "## PoolQC , Alley , Fence , MiscFeature ,FireplaceQu Missing for more than 50% of the data \n",
    "columns_to_be_dropped = ['MiscFeature']\n"
   ]
  },
  {
   "cell_type": "markdown",
   "metadata": {},
   "source": [
    "## Seperating  Numeric and CategoricalData"
   ]
  },
  {
   "cell_type": "code",
   "execution_count": 7,
   "metadata": {},
   "outputs": [],
   "source": [
    "def seperating_data(df):\n",
    "    numeric_data = df.select_dtypes(include=[np.number])\n",
    "    categorical_data = df.select_dtypes(exclude=[np.number])\n",
    "    print(numeric_data.head())\n",
    "    print(categorical_data.head())\n",
    "    return numeric_data,categorical_data\n",
    "#categorical_data.head()"
   ]
  },
  {
   "cell_type": "code",
   "execution_count": 9,
   "metadata": {},
   "outputs": [
    {
     "name": "stdout",
     "output_type": "stream",
     "text": [
      "   MSSubClass  LotFrontage  LotArea  OverallQual  OverallCond  YearBuilt  \\\n",
      "0          60         65.0     8450            7            5       2003   \n",
      "1          20         80.0     9600            6            8       1976   \n",
      "2          60         68.0    11250            7            5       2001   \n",
      "3          70         60.0     9550            7            5       1915   \n",
      "4          60         84.0    14260            8            5       2000   \n",
      "\n",
      "   YearRemodAdd  MasVnrArea  BsmtFinSF1  BsmtFinSF2  ...  GarageArea  \\\n",
      "0          2003       196.0       706.0         0.0  ...       548.0   \n",
      "1          1976         0.0       978.0         0.0  ...       460.0   \n",
      "2          2002       162.0       486.0         0.0  ...       608.0   \n",
      "3          1970         0.0       216.0         0.0  ...       642.0   \n",
      "4          2000       350.0       655.0         0.0  ...       836.0   \n",
      "\n",
      "   WoodDeckSF  OpenPorchSF  EnclosedPorch  3SsnPorch  ScreenPorch  PoolArea  \\\n",
      "0           0           61              0          0            0         0   \n",
      "1         298            0              0          0            0         0   \n",
      "2           0           42              0          0            0         0   \n",
      "3           0           35            272          0            0         0   \n",
      "4         192           84              0          0            0         0   \n",
      "\n",
      "   MiscVal  MoSold  YrSold  \n",
      "0        0       2    2008  \n",
      "1        0       5    2007  \n",
      "2        0       9    2008  \n",
      "3        0       2    2006  \n",
      "4        0      12    2008  \n",
      "\n",
      "[5 rows x 36 columns]\n",
      "  MSZoning Street Alley LotShape LandContour Utilities LotConfig LandSlope  \\\n",
      "0       RL   Pave   NaN      Reg         Lvl    AllPub    Inside       Gtl   \n",
      "1       RL   Pave   NaN      Reg         Lvl    AllPub       FR2       Gtl   \n",
      "2       RL   Pave   NaN      IR1         Lvl    AllPub    Inside       Gtl   \n",
      "3       RL   Pave   NaN      IR1         Lvl    AllPub    Corner       Gtl   \n",
      "4       RL   Pave   NaN      IR1         Lvl    AllPub       FR2       Gtl   \n",
      "\n",
      "  Neighborhood Condition1  ... GarageType GarageFinish GarageQual GarageCond  \\\n",
      "0      CollgCr       Norm  ...     Attchd          RFn         TA         TA   \n",
      "1      Veenker      Feedr  ...     Attchd          RFn         TA         TA   \n",
      "2      CollgCr       Norm  ...     Attchd          RFn         TA         TA   \n",
      "3      Crawfor       Norm  ...     Detchd          Unf         TA         TA   \n",
      "4      NoRidge       Norm  ...     Attchd          RFn         TA         TA   \n",
      "\n",
      "  PavedDrive PoolQC Fence MiscFeature SaleType SaleCondition  \n",
      "0          Y    NaN   NaN         NaN       WD        Normal  \n",
      "1          Y    NaN   NaN         NaN       WD        Normal  \n",
      "2          Y    NaN   NaN         NaN       WD        Normal  \n",
      "3          Y    NaN   NaN         NaN       WD       Abnorml  \n",
      "4          Y    NaN   NaN         NaN       WD        Normal  \n",
      "\n",
      "[5 rows x 43 columns]\n"
     ]
    }
   ],
   "source": [
    "numeric_data,categorical_data = seperating_data(df_prepare)"
   ]
  },
  {
   "cell_type": "code",
   "execution_count": 9,
   "metadata": {},
   "outputs": [],
   "source": [
    "#df.replace('?',np.NaN,inplace=True)\n",
    "#imp=SimpleImputer(missing_values=np.NaN)\n",
    "#idf=pd.DataFrame(imp.fit_transform(df))\n",
    "#idf.columns=df.columns\n",
    "#idf.index=df.index\n",
    "#idf['bare_nuclei'].isna().sum()"
   ]
  },
  {
   "cell_type": "markdown",
   "metadata": {},
   "source": [
    "## Impute missing values using SimpleImputer (Mean Value)"
   ]
  },
  {
   "cell_type": "code",
   "execution_count": 10,
   "metadata": {},
   "outputs": [],
   "source": [
    "\n",
    "def numerical_impute(df):\n",
    "    my_imputer = SimpleImputer()\n",
    "    new_data_1 = df.copy()\n",
    "    my_imputer = SimpleImputer()\n",
    "    new_data_1 = pd.DataFrame(my_imputer.fit_transform(new_data_1))\n",
    "    new_data_1.columns = numeric_data.columns\n",
    "    new_data_1.index = numeric_data.index\n",
    "    missing_new = new_data_1.isnull().sum()\n",
    "    print(missing_new)\n",
    "    return new_data_1\n"
   ]
  },
  {
   "cell_type": "code",
   "execution_count": 11,
   "metadata": {},
   "outputs": [
    {
     "name": "stdout",
     "output_type": "stream",
     "text": [
      "MSSubClass       0\n",
      "LotFrontage      0\n",
      "LotArea          0\n",
      "OverallQual      0\n",
      "OverallCond      0\n",
      "YearBuilt        0\n",
      "YearRemodAdd     0\n",
      "MasVnrArea       0\n",
      "BsmtFinSF1       0\n",
      "BsmtFinSF2       0\n",
      "BsmtUnfSF        0\n",
      "TotalBsmtSF      0\n",
      "1stFlrSF         0\n",
      "2ndFlrSF         0\n",
      "LowQualFinSF     0\n",
      "GrLivArea        0\n",
      "BsmtFullBath     0\n",
      "BsmtHalfBath     0\n",
      "FullBath         0\n",
      "HalfBath         0\n",
      "BedroomAbvGr     0\n",
      "KitchenAbvGr     0\n",
      "TotRmsAbvGrd     0\n",
      "Fireplaces       0\n",
      "GarageYrBlt      0\n",
      "GarageCars       0\n",
      "GarageArea       0\n",
      "WoodDeckSF       0\n",
      "OpenPorchSF      0\n",
      "EnclosedPorch    0\n",
      "3SsnPorch        0\n",
      "ScreenPorch      0\n",
      "PoolArea         0\n",
      "MiscVal          0\n",
      "MoSold           0\n",
      "YrSold           0\n",
      "dtype: int64\n"
     ]
    }
   ],
   "source": [
    "numeric_data = numerical_impute(numeric_data)"
   ]
  },
  {
   "cell_type": "code",
   "execution_count": 12,
   "metadata": {},
   "outputs": [],
   "source": [
    "#from sklearn_pandas import CategoricalImputer\n",
    "#new_data_2 = categorical_data.copy()\n",
    "#imputer = CategoricalImputer()\n",
    "#new_data_2 = pd.DataFrame(imputer.fit_transform(new_data_2))\n",
    "#new_data_2.columns = categorical_data.columns\n",
    "#new_data_2.index = categorical_data.index\n",
    "#missing_new_2 = new_data_2.isnull().sum()\n",
    "\n"
   ]
  },
  {
   "cell_type": "code",
   "execution_count": 12,
   "metadata": {},
   "outputs": [],
   "source": [
    "def encode(data):\n",
    "    '''function to encode non-null data and replace it in the original data'''\n",
    "    #retains only non-null values\n",
    "    nonulls = np.array(data.dropna())\n",
    "    #reshapes the data for encoding\n",
    "    impute_reshape = nonulls.reshape(-1,1)\n",
    "    #encode date\n",
    "    impute_ordinal = encoder.fit_transform(impute_reshape)\n",
    "    #Assign back encoded values to non-null values\n",
    "    data.loc[data.notnull()] = np.squeeze(impute_ordinal)\n",
    "    return data\n"
   ]
  },
  {
   "cell_type": "code",
   "execution_count": 13,
   "metadata": {},
   "outputs": [],
   "source": [
    "def categorical_impute(df):\n",
    "    #instantiate both packages to use\n",
    "    encoder = OrdinalEncoder()\n",
    "    imputer = IterativeImputer(ExtraTreesRegressor())\n",
    "    #create a list of categorical columns to iterate over\n",
    "    cat_cols = df.columns\n",
    "\n",
    "    def encode(data):\n",
    "        '''function to encode non-null data and replace it in the original data'''\n",
    "        #retains only non-null values\n",
    "        nonulls = np.array(data.dropna())\n",
    "        #reshapes the data for encoding\n",
    "        impute_reshape = nonulls.reshape(-1,1)\n",
    "        #encode date\n",
    "        impute_ordinal = encoder.fit_transform(impute_reshape)\n",
    "        #Assign back encoded values to non-null values\n",
    "        data.loc[data.notnull()] = np.squeeze(impute_ordinal)\n",
    "        return data\n",
    "\n",
    "    #create a for loop to iterate through each column in the data\n",
    "    for columns in cat_cols:\n",
    "        encode(df[columns])\n",
    "    encode_data = pd.DataFrame(np.round(imputer.fit_transform(df)),columns = df.columns)\n",
    "    return encode_data\n"
   ]
  },
  {
   "cell_type": "code",
   "execution_count": 14,
   "metadata": {},
   "outputs": [
    {
     "name": "stderr",
     "output_type": "stream",
     "text": [
      "/home/cage/Pet_Projects/env/lib/python3.7/site-packages/pandas/core/indexing.py:671: SettingWithCopyWarning: \n",
      "A value is trying to be set on a copy of a slice from a DataFrame\n",
      "\n",
      "See the caveats in the documentation: https://pandas.pydata.org/pandas-docs/stable/user_guide/indexing.html#returning-a-view-versus-a-copy\n",
      "  self._setitem_with_indexer(indexer, value)\n",
      "/home/cage/Pet_Projects/env/lib/python3.7/site-packages/pandas/core/indexing.py:671: SettingWithCopyWarning: \n",
      "A value is trying to be set on a copy of a slice from a DataFrame\n",
      "\n",
      "See the caveats in the documentation: https://pandas.pydata.org/pandas-docs/stable/user_guide/indexing.html#returning-a-view-versus-a-copy\n",
      "  self._setitem_with_indexer(indexer, value)\n",
      "/home/cage/Pet_Projects/env/lib/python3.7/site-packages/pandas/core/indexing.py:671: SettingWithCopyWarning: \n",
      "A value is trying to be set on a copy of a slice from a DataFrame\n",
      "\n",
      "See the caveats in the documentation: https://pandas.pydata.org/pandas-docs/stable/user_guide/indexing.html#returning-a-view-versus-a-copy\n",
      "  self._setitem_with_indexer(indexer, value)\n",
      "/home/cage/Pet_Projects/env/lib/python3.7/site-packages/pandas/core/indexing.py:671: SettingWithCopyWarning: \n",
      "A value is trying to be set on a copy of a slice from a DataFrame\n",
      "\n",
      "See the caveats in the documentation: https://pandas.pydata.org/pandas-docs/stable/user_guide/indexing.html#returning-a-view-versus-a-copy\n",
      "  self._setitem_with_indexer(indexer, value)\n",
      "/home/cage/Pet_Projects/env/lib/python3.7/site-packages/pandas/core/indexing.py:671: SettingWithCopyWarning: \n",
      "A value is trying to be set on a copy of a slice from a DataFrame\n",
      "\n",
      "See the caveats in the documentation: https://pandas.pydata.org/pandas-docs/stable/user_guide/indexing.html#returning-a-view-versus-a-copy\n",
      "  self._setitem_with_indexer(indexer, value)\n",
      "/home/cage/Pet_Projects/env/lib/python3.7/site-packages/pandas/core/indexing.py:671: SettingWithCopyWarning: \n",
      "A value is trying to be set on a copy of a slice from a DataFrame\n",
      "\n",
      "See the caveats in the documentation: https://pandas.pydata.org/pandas-docs/stable/user_guide/indexing.html#returning-a-view-versus-a-copy\n",
      "  self._setitem_with_indexer(indexer, value)\n",
      "/home/cage/Pet_Projects/env/lib/python3.7/site-packages/pandas/core/indexing.py:671: SettingWithCopyWarning: \n",
      "A value is trying to be set on a copy of a slice from a DataFrame\n",
      "\n",
      "See the caveats in the documentation: https://pandas.pydata.org/pandas-docs/stable/user_guide/indexing.html#returning-a-view-versus-a-copy\n",
      "  self._setitem_with_indexer(indexer, value)\n",
      "/home/cage/Pet_Projects/env/lib/python3.7/site-packages/pandas/core/indexing.py:671: SettingWithCopyWarning: \n",
      "A value is trying to be set on a copy of a slice from a DataFrame\n",
      "\n",
      "See the caveats in the documentation: https://pandas.pydata.org/pandas-docs/stable/user_guide/indexing.html#returning-a-view-versus-a-copy\n",
      "  self._setitem_with_indexer(indexer, value)\n",
      "/home/cage/Pet_Projects/env/lib/python3.7/site-packages/pandas/core/indexing.py:671: SettingWithCopyWarning: \n",
      "A value is trying to be set on a copy of a slice from a DataFrame\n",
      "\n",
      "See the caveats in the documentation: https://pandas.pydata.org/pandas-docs/stable/user_guide/indexing.html#returning-a-view-versus-a-copy\n",
      "  self._setitem_with_indexer(indexer, value)\n",
      "/home/cage/Pet_Projects/env/lib/python3.7/site-packages/pandas/core/indexing.py:671: SettingWithCopyWarning: \n",
      "A value is trying to be set on a copy of a slice from a DataFrame\n",
      "\n",
      "See the caveats in the documentation: https://pandas.pydata.org/pandas-docs/stable/user_guide/indexing.html#returning-a-view-versus-a-copy\n",
      "  self._setitem_with_indexer(indexer, value)\n",
      "/home/cage/Pet_Projects/env/lib/python3.7/site-packages/pandas/core/indexing.py:671: SettingWithCopyWarning: \n",
      "A value is trying to be set on a copy of a slice from a DataFrame\n",
      "\n",
      "See the caveats in the documentation: https://pandas.pydata.org/pandas-docs/stable/user_guide/indexing.html#returning-a-view-versus-a-copy\n",
      "  self._setitem_with_indexer(indexer, value)\n",
      "/home/cage/Pet_Projects/env/lib/python3.7/site-packages/pandas/core/indexing.py:671: SettingWithCopyWarning: \n",
      "A value is trying to be set on a copy of a slice from a DataFrame\n",
      "\n",
      "See the caveats in the documentation: https://pandas.pydata.org/pandas-docs/stable/user_guide/indexing.html#returning-a-view-versus-a-copy\n",
      "  self._setitem_with_indexer(indexer, value)\n",
      "/home/cage/Pet_Projects/env/lib/python3.7/site-packages/pandas/core/indexing.py:671: SettingWithCopyWarning: \n",
      "A value is trying to be set on a copy of a slice from a DataFrame\n",
      "\n",
      "See the caveats in the documentation: https://pandas.pydata.org/pandas-docs/stable/user_guide/indexing.html#returning-a-view-versus-a-copy\n",
      "  self._setitem_with_indexer(indexer, value)\n",
      "/home/cage/Pet_Projects/env/lib/python3.7/site-packages/pandas/core/indexing.py:671: SettingWithCopyWarning: \n",
      "A value is trying to be set on a copy of a slice from a DataFrame\n",
      "\n",
      "See the caveats in the documentation: https://pandas.pydata.org/pandas-docs/stable/user_guide/indexing.html#returning-a-view-versus-a-copy\n",
      "  self._setitem_with_indexer(indexer, value)\n",
      "/home/cage/Pet_Projects/env/lib/python3.7/site-packages/pandas/core/indexing.py:671: SettingWithCopyWarning: \n",
      "A value is trying to be set on a copy of a slice from a DataFrame\n",
      "\n",
      "See the caveats in the documentation: https://pandas.pydata.org/pandas-docs/stable/user_guide/indexing.html#returning-a-view-versus-a-copy\n",
      "  self._setitem_with_indexer(indexer, value)\n",
      "/home/cage/Pet_Projects/env/lib/python3.7/site-packages/pandas/core/indexing.py:671: SettingWithCopyWarning: \n",
      "A value is trying to be set on a copy of a slice from a DataFrame\n",
      "\n",
      "See the caveats in the documentation: https://pandas.pydata.org/pandas-docs/stable/user_guide/indexing.html#returning-a-view-versus-a-copy\n",
      "  self._setitem_with_indexer(indexer, value)\n",
      "/home/cage/Pet_Projects/env/lib/python3.7/site-packages/pandas/core/indexing.py:671: SettingWithCopyWarning: \n",
      "A value is trying to be set on a copy of a slice from a DataFrame\n",
      "\n",
      "See the caveats in the documentation: https://pandas.pydata.org/pandas-docs/stable/user_guide/indexing.html#returning-a-view-versus-a-copy\n",
      "  self._setitem_with_indexer(indexer, value)\n",
      "/home/cage/Pet_Projects/env/lib/python3.7/site-packages/pandas/core/indexing.py:671: SettingWithCopyWarning: \n",
      "A value is trying to be set on a copy of a slice from a DataFrame\n",
      "\n",
      "See the caveats in the documentation: https://pandas.pydata.org/pandas-docs/stable/user_guide/indexing.html#returning-a-view-versus-a-copy\n",
      "  self._setitem_with_indexer(indexer, value)\n",
      "/home/cage/Pet_Projects/env/lib/python3.7/site-packages/pandas/core/indexing.py:671: SettingWithCopyWarning: \n",
      "A value is trying to be set on a copy of a slice from a DataFrame\n",
      "\n",
      "See the caveats in the documentation: https://pandas.pydata.org/pandas-docs/stable/user_guide/indexing.html#returning-a-view-versus-a-copy\n",
      "  self._setitem_with_indexer(indexer, value)\n",
      "/home/cage/Pet_Projects/env/lib/python3.7/site-packages/pandas/core/indexing.py:671: SettingWithCopyWarning: \n",
      "A value is trying to be set on a copy of a slice from a DataFrame\n",
      "\n",
      "See the caveats in the documentation: https://pandas.pydata.org/pandas-docs/stable/user_guide/indexing.html#returning-a-view-versus-a-copy\n",
      "  self._setitem_with_indexer(indexer, value)\n",
      "/home/cage/Pet_Projects/env/lib/python3.7/site-packages/pandas/core/indexing.py:671: SettingWithCopyWarning: \n",
      "A value is trying to be set on a copy of a slice from a DataFrame\n",
      "\n",
      "See the caveats in the documentation: https://pandas.pydata.org/pandas-docs/stable/user_guide/indexing.html#returning-a-view-versus-a-copy\n",
      "  self._setitem_with_indexer(indexer, value)\n",
      "/home/cage/Pet_Projects/env/lib/python3.7/site-packages/pandas/core/indexing.py:671: SettingWithCopyWarning: \n",
      "A value is trying to be set on a copy of a slice from a DataFrame\n",
      "\n",
      "See the caveats in the documentation: https://pandas.pydata.org/pandas-docs/stable/user_guide/indexing.html#returning-a-view-versus-a-copy\n",
      "  self._setitem_with_indexer(indexer, value)\n",
      "/home/cage/Pet_Projects/env/lib/python3.7/site-packages/pandas/core/indexing.py:671: SettingWithCopyWarning: \n",
      "A value is trying to be set on a copy of a slice from a DataFrame\n",
      "\n",
      "See the caveats in the documentation: https://pandas.pydata.org/pandas-docs/stable/user_guide/indexing.html#returning-a-view-versus-a-copy\n",
      "  self._setitem_with_indexer(indexer, value)\n",
      "/home/cage/Pet_Projects/env/lib/python3.7/site-packages/pandas/core/indexing.py:671: SettingWithCopyWarning: \n",
      "A value is trying to be set on a copy of a slice from a DataFrame\n",
      "\n",
      "See the caveats in the documentation: https://pandas.pydata.org/pandas-docs/stable/user_guide/indexing.html#returning-a-view-versus-a-copy\n",
      "  self._setitem_with_indexer(indexer, value)\n",
      "/home/cage/Pet_Projects/env/lib/python3.7/site-packages/pandas/core/indexing.py:671: SettingWithCopyWarning: \n",
      "A value is trying to be set on a copy of a slice from a DataFrame\n",
      "\n",
      "See the caveats in the documentation: https://pandas.pydata.org/pandas-docs/stable/user_guide/indexing.html#returning-a-view-versus-a-copy\n",
      "  self._setitem_with_indexer(indexer, value)\n",
      "/home/cage/Pet_Projects/env/lib/python3.7/site-packages/pandas/core/indexing.py:671: SettingWithCopyWarning: \n",
      "A value is trying to be set on a copy of a slice from a DataFrame\n",
      "\n",
      "See the caveats in the documentation: https://pandas.pydata.org/pandas-docs/stable/user_guide/indexing.html#returning-a-view-versus-a-copy\n",
      "  self._setitem_with_indexer(indexer, value)\n",
      "/home/cage/Pet_Projects/env/lib/python3.7/site-packages/pandas/core/indexing.py:671: SettingWithCopyWarning: \n",
      "A value is trying to be set on a copy of a slice from a DataFrame\n",
      "\n",
      "See the caveats in the documentation: https://pandas.pydata.org/pandas-docs/stable/user_guide/indexing.html#returning-a-view-versus-a-copy\n",
      "  self._setitem_with_indexer(indexer, value)\n",
      "/home/cage/Pet_Projects/env/lib/python3.7/site-packages/pandas/core/indexing.py:671: SettingWithCopyWarning: \n",
      "A value is trying to be set on a copy of a slice from a DataFrame\n",
      "\n",
      "See the caveats in the documentation: https://pandas.pydata.org/pandas-docs/stable/user_guide/indexing.html#returning-a-view-versus-a-copy\n",
      "  self._setitem_with_indexer(indexer, value)\n",
      "/home/cage/Pet_Projects/env/lib/python3.7/site-packages/pandas/core/indexing.py:671: SettingWithCopyWarning: \n",
      "A value is trying to be set on a copy of a slice from a DataFrame\n",
      "\n",
      "See the caveats in the documentation: https://pandas.pydata.org/pandas-docs/stable/user_guide/indexing.html#returning-a-view-versus-a-copy\n",
      "  self._setitem_with_indexer(indexer, value)\n",
      "/home/cage/Pet_Projects/env/lib/python3.7/site-packages/pandas/core/indexing.py:671: SettingWithCopyWarning: \n",
      "A value is trying to be set on a copy of a slice from a DataFrame\n",
      "\n",
      "See the caveats in the documentation: https://pandas.pydata.org/pandas-docs/stable/user_guide/indexing.html#returning-a-view-versus-a-copy\n",
      "  self._setitem_with_indexer(indexer, value)\n",
      "/home/cage/Pet_Projects/env/lib/python3.7/site-packages/pandas/core/indexing.py:671: SettingWithCopyWarning: \n",
      "A value is trying to be set on a copy of a slice from a DataFrame\n",
      "\n",
      "See the caveats in the documentation: https://pandas.pydata.org/pandas-docs/stable/user_guide/indexing.html#returning-a-view-versus-a-copy\n",
      "  self._setitem_with_indexer(indexer, value)\n",
      "/home/cage/Pet_Projects/env/lib/python3.7/site-packages/pandas/core/indexing.py:671: SettingWithCopyWarning: \n",
      "A value is trying to be set on a copy of a slice from a DataFrame\n",
      "\n",
      "See the caveats in the documentation: https://pandas.pydata.org/pandas-docs/stable/user_guide/indexing.html#returning-a-view-versus-a-copy\n",
      "  self._setitem_with_indexer(indexer, value)\n",
      "/home/cage/Pet_Projects/env/lib/python3.7/site-packages/pandas/core/indexing.py:671: SettingWithCopyWarning: \n",
      "A value is trying to be set on a copy of a slice from a DataFrame\n",
      "\n",
      "See the caveats in the documentation: https://pandas.pydata.org/pandas-docs/stable/user_guide/indexing.html#returning-a-view-versus-a-copy\n",
      "  self._setitem_with_indexer(indexer, value)\n",
      "/home/cage/Pet_Projects/env/lib/python3.7/site-packages/pandas/core/indexing.py:671: SettingWithCopyWarning: \n",
      "A value is trying to be set on a copy of a slice from a DataFrame\n",
      "\n",
      "See the caveats in the documentation: https://pandas.pydata.org/pandas-docs/stable/user_guide/indexing.html#returning-a-view-versus-a-copy\n",
      "  self._setitem_with_indexer(indexer, value)\n",
      "/home/cage/Pet_Projects/env/lib/python3.7/site-packages/pandas/core/indexing.py:671: SettingWithCopyWarning: \n",
      "A value is trying to be set on a copy of a slice from a DataFrame\n",
      "\n",
      "See the caveats in the documentation: https://pandas.pydata.org/pandas-docs/stable/user_guide/indexing.html#returning-a-view-versus-a-copy\n",
      "  self._setitem_with_indexer(indexer, value)\n",
      "/home/cage/Pet_Projects/env/lib/python3.7/site-packages/pandas/core/indexing.py:671: SettingWithCopyWarning: \n",
      "A value is trying to be set on a copy of a slice from a DataFrame\n",
      "\n",
      "See the caveats in the documentation: https://pandas.pydata.org/pandas-docs/stable/user_guide/indexing.html#returning-a-view-versus-a-copy\n",
      "  self._setitem_with_indexer(indexer, value)\n",
      "/home/cage/Pet_Projects/env/lib/python3.7/site-packages/pandas/core/indexing.py:671: SettingWithCopyWarning: \n",
      "A value is trying to be set on a copy of a slice from a DataFrame\n",
      "\n",
      "See the caveats in the documentation: https://pandas.pydata.org/pandas-docs/stable/user_guide/indexing.html#returning-a-view-versus-a-copy\n",
      "  self._setitem_with_indexer(indexer, value)\n",
      "/home/cage/Pet_Projects/env/lib/python3.7/site-packages/pandas/core/indexing.py:671: SettingWithCopyWarning: \n",
      "A value is trying to be set on a copy of a slice from a DataFrame\n",
      "\n",
      "See the caveats in the documentation: https://pandas.pydata.org/pandas-docs/stable/user_guide/indexing.html#returning-a-view-versus-a-copy\n",
      "  self._setitem_with_indexer(indexer, value)\n",
      "/home/cage/Pet_Projects/env/lib/python3.7/site-packages/pandas/core/indexing.py:671: SettingWithCopyWarning: \n",
      "A value is trying to be set on a copy of a slice from a DataFrame\n",
      "\n",
      "See the caveats in the documentation: https://pandas.pydata.org/pandas-docs/stable/user_guide/indexing.html#returning-a-view-versus-a-copy\n",
      "  self._setitem_with_indexer(indexer, value)\n",
      "/home/cage/Pet_Projects/env/lib/python3.7/site-packages/pandas/core/indexing.py:671: SettingWithCopyWarning: \n",
      "A value is trying to be set on a copy of a slice from a DataFrame\n",
      "\n",
      "See the caveats in the documentation: https://pandas.pydata.org/pandas-docs/stable/user_guide/indexing.html#returning-a-view-versus-a-copy\n",
      "  self._setitem_with_indexer(indexer, value)\n",
      "/home/cage/Pet_Projects/env/lib/python3.7/site-packages/pandas/core/indexing.py:671: SettingWithCopyWarning: \n",
      "A value is trying to be set on a copy of a slice from a DataFrame\n",
      "\n",
      "See the caveats in the documentation: https://pandas.pydata.org/pandas-docs/stable/user_guide/indexing.html#returning-a-view-versus-a-copy\n",
      "  self._setitem_with_indexer(indexer, value)\n"
     ]
    },
    {
     "name": "stderr",
     "output_type": "stream",
     "text": [
      "/home/cage/Pet_Projects/env/lib/python3.7/site-packages/sklearn/impute/_iterative.py:670: ConvergenceWarning: [IterativeImputer] Early stopping criterion not reached.\n",
      "  \" reached.\", ConvergenceWarning)\n"
     ]
    },
    {
     "name": "stdout",
     "output_type": "stream",
     "text": [
      "      MSZoning  Street  Alley  LotShape  LandContour  Utilities  LotConfig  \\\n",
      "0          3.0     1.0    1.0       3.0          3.0        0.0        4.0   \n",
      "1          3.0     1.0    1.0       3.0          3.0        0.0        2.0   \n",
      "2          3.0     1.0    1.0       0.0          3.0        0.0        4.0   \n",
      "3          3.0     1.0    0.0       0.0          3.0        0.0        0.0   \n",
      "4          3.0     1.0    1.0       0.0          3.0        0.0        2.0   \n",
      "...        ...     ...    ...       ...          ...        ...        ...   \n",
      "2914       4.0     1.0    0.0       3.0          3.0        0.0        4.0   \n",
      "2915       4.0     1.0    0.0       3.0          3.0        0.0        4.0   \n",
      "2916       3.0     1.0    0.0       3.0          3.0        0.0        4.0   \n",
      "2917       3.0     1.0    0.0       3.0          3.0        0.0        4.0   \n",
      "2918       3.0     1.0    0.0       3.0          3.0        0.0        4.0   \n",
      "\n",
      "      LandSlope  Neighborhood  Condition1  ...  GarageType  GarageFinish  \\\n",
      "0           0.0           5.0         2.0  ...         1.0           1.0   \n",
      "1           0.0          24.0         1.0  ...         1.0           1.0   \n",
      "2           0.0           5.0         2.0  ...         1.0           1.0   \n",
      "3           0.0           6.0         2.0  ...         5.0           2.0   \n",
      "4           0.0          15.0         2.0  ...         1.0           1.0   \n",
      "...         ...           ...         ...  ...         ...           ...   \n",
      "2914        0.0          10.0         2.0  ...         2.0           1.0   \n",
      "2915        0.0          10.0         2.0  ...         4.0           2.0   \n",
      "2916        0.0          11.0         2.0  ...         5.0           2.0   \n",
      "2917        0.0          11.0         2.0  ...         2.0           1.0   \n",
      "2918        1.0          11.0         2.0  ...         1.0           0.0   \n",
      "\n",
      "      GarageQual  GarageCond  PavedDrive  PoolQC  Fence  MiscFeature  \\\n",
      "0            4.0         4.0         2.0     2.0    0.0          2.0   \n",
      "1            4.0         4.0         2.0     2.0    1.0          2.0   \n",
      "2            4.0         4.0         2.0     2.0    0.0          2.0   \n",
      "3            4.0         4.0         2.0     0.0    2.0          2.0   \n",
      "4            4.0         4.0         2.0     2.0    0.0          2.0   \n",
      "...          ...         ...         ...     ...    ...          ...   \n",
      "2914         4.0         4.0         2.0     0.0    0.0          2.0   \n",
      "2915         4.0         4.0         2.0     0.0    2.0          2.0   \n",
      "2916         4.0         4.0         2.0     0.0    1.0          2.0   \n",
      "2917         4.0         4.0         2.0     0.0    2.0          2.0   \n",
      "2918         4.0         4.0         2.0     0.0    2.0          2.0   \n",
      "\n",
      "      SaleType  SaleCondition  \n",
      "0          8.0            4.0  \n",
      "1          8.0            4.0  \n",
      "2          8.0            4.0  \n",
      "3          8.0            0.0  \n",
      "4          8.0            4.0  \n",
      "...        ...            ...  \n",
      "2914       8.0            4.0  \n",
      "2915       8.0            0.0  \n",
      "2916       8.0            0.0  \n",
      "2917       8.0            4.0  \n",
      "2918       8.0            4.0  \n",
      "\n",
      "[2919 rows x 43 columns]\n"
     ]
    }
   ],
   "source": [
    "new_data_2 = categorical_data.copy()\n",
    "a = categorical_impute(new_data_2)\n",
    "print(a)\n",
    "# encode_data"
   ]
  },
  {
   "cell_type": "code",
   "execution_count": null,
   "metadata": {},
   "outputs": [],
   "source": []
  },
  {
   "cell_type": "code",
   "execution_count": null,
   "metadata": {},
   "outputs": [],
   "source": [
    "## Feature Engineering Ideas :: Age of the house\n"
   ]
  },
  {
   "cell_type": "markdown",
   "metadata": {},
   "source": [
    "## Concat both numerical and categorical data"
   ]
  },
  {
   "cell_type": "code",
   "execution_count": 15,
   "metadata": {},
   "outputs": [
    {
     "data": {
      "text/plain": [
       "SaleCondition    0\n",
       "OpenPorchSF      0\n",
       "KitchenAbvGr     0\n",
       "TotRmsAbvGrd     0\n",
       "Fireplaces       0\n",
       "                ..\n",
       "MasVnrType       0\n",
       "ExterQual        0\n",
       "ExterCond        0\n",
       "Foundation       0\n",
       "MSSubClass       0\n",
       "Length: 79, dtype: int64"
      ]
     },
     "execution_count": 15,
     "metadata": {},
     "output_type": "execute_result"
    }
   ],
   "source": [
    "df_imputed = pd.concat([numeric_data.reset_index(drop=True), categorical_data], axis=1)\n",
    "df_imputed.fillna('None', inplace = True) \n",
    "missing_new = df_imputed.isnull().sum()\n",
    "missing_new.sort_values(ascending=False,inplace=True)\n",
    "missing_new.head(100)"
   ]
  },
  {
   "cell_type": "code",
   "execution_count": 54,
   "metadata": {},
   "outputs": [],
   "source": [
    "from scipy.stats import skew\n",
    "from scipy import stats\n",
    "from sklearn.preprocessing import LabelEncoder,OneHotEncoder\n",
    "from sklearn.preprocessing import PowerTransformer"
   ]
  },
  {
   "cell_type": "code",
   "execution_count": 55,
   "metadata": {},
   "outputs": [],
   "source": [
    "def numericorcategorical(dt):\n",
    "    dt_columns=dt.columns\n",
    "    for c in dt_columns:\n",
    "        print(c)\n",
    "        if dt[c].dtype != \"object\":\n",
    "            dt[c] = Normalize(dt[c],2)\n",
    "        else:\n",
    "            onehot_encoded = OneHot(dt[c], c)\n",
    "            dt = dt.join(onehot_encoded)\n",
    "            dt = dt.drop([c], axis=1)\n",
    "    return dt"
   ]
  },
  {
   "cell_type": "code",
   "execution_count": 56,
   "metadata": {},
   "outputs": [],
   "source": [
    "def Normalize(X_skewed, skew_threshold = 2):\n",
    "    if skew(X_skewed)>abs(skew_threshold):\n",
    "        #X_Normalized, m = stats.boxcox(X_skewed)\n",
    "        pt = PowerTransformer()\n",
    "        X_Normalized=pt.fit_transform(X_skewed.values.reshape(-1,1))\n",
    "        return X_Normalized\n",
    "    else:\n",
    "        return X_skewed\n",
    "\n",
    "\n",
    "def OneHot(X_column, column_name):\n",
    "    #Labe Encoding\n",
    "    lbl = LabelEncoder() \n",
    "    lbl.fit(list(X_column.values)) \n",
    "    X_labelencoded = lbl.transform(list(X_column.values))\n",
    "    #One Hot encoding\n",
    "    onehot_encoded=pd.get_dummies(X_labelencoded, prefix=column_name)\n",
    "    #onehot_encoder = OneHotEncoder(sparse=False)\n",
    "    #onehot_encoded = onehot_encoder.fit_transform(X_labelencoded.reshape(-1,1))\n",
    "    return onehot_encoded"
   ]
  },
  {
   "cell_type": "code",
   "execution_count": 53,
   "metadata": {},
   "outputs": [
    {
     "data": {
      "text/plain": [
       "True     1738\n",
       "False    1181\n",
       "Name: MasVnrArea, dtype: int64"
      ]
     },
     "execution_count": 53,
     "metadata": {},
     "output_type": "execute_result"
    }
   ],
   "source": [
    "(df_imputed['MasVnrArea']==0).value_counts()"
   ]
  },
  {
   "cell_type": "code",
   "execution_count": 57,
   "metadata": {},
   "outputs": [
    {
     "name": "stdout",
     "output_type": "stream",
     "text": [
      "MSSubClass\n",
      "LotFrontage\n",
      "LotArea\n",
      "OverallQual\n",
      "OverallCond\n",
      "YearBuilt\n",
      "YearRemodAdd\n",
      "MasVnrArea\n",
      "BsmtFinSF1\n",
      "BsmtFinSF2\n",
      "BsmtUnfSF\n",
      "TotalBsmtSF\n",
      "1stFlrSF\n",
      "2ndFlrSF\n",
      "LowQualFinSF\n",
      "GrLivArea\n",
      "BsmtFullBath\n",
      "BsmtHalfBath\n",
      "FullBath\n",
      "HalfBath\n",
      "BedroomAbvGr\n",
      "KitchenAbvGr\n",
      "TotRmsAbvGrd\n",
      "Fireplaces\n",
      "GarageYrBlt\n",
      "GarageCars\n",
      "GarageArea\n",
      "WoodDeckSF\n",
      "OpenPorchSF\n",
      "EnclosedPorch\n",
      "3SsnPorch\n",
      "ScreenPorch\n",
      "PoolArea\n",
      "MiscVal\n",
      "MoSold\n",
      "YrSold\n",
      "MSZoning\n",
      "Street\n",
      "Alley\n",
      "LotShape\n",
      "LandContour\n",
      "Utilities\n",
      "LotConfig\n",
      "LandSlope\n",
      "Neighborhood\n",
      "Condition1\n",
      "Condition2\n",
      "BldgType\n",
      "HouseStyle\n",
      "RoofStyle\n",
      "RoofMatl\n",
      "Exterior1st\n",
      "Exterior2nd\n",
      "MasVnrType\n",
      "ExterQual\n",
      "ExterCond\n",
      "Foundation\n",
      "BsmtQual\n",
      "BsmtCond\n",
      "BsmtExposure\n",
      "BsmtFinType1\n",
      "BsmtFinType2\n",
      "Heating\n",
      "HeatingQC\n",
      "CentralAir\n",
      "Electrical\n",
      "KitchenQual\n",
      "Functional\n",
      "FireplaceQu\n",
      "GarageType\n",
      "GarageFinish\n",
      "GarageQual\n",
      "GarageCond\n",
      "PavedDrive\n",
      "PoolQC\n",
      "Fence\n",
      "MiscFeature\n",
      "SaleType\n",
      "SaleCondition\n",
      "   MSSubClass  LotFrontage    LotArea  OverallQual  OverallCond  YearBuilt  \\\n",
      "0        60.0         65.0  17.233406          7.0          5.0     2003.0   \n",
      "1        20.0         80.0  17.650449          6.0          8.0     1976.0   \n",
      "2        60.0         68.0  18.178584          7.0          5.0     2001.0   \n",
      "3        70.0         60.0  17.633246          7.0          5.0     1915.0   \n",
      "4        60.0         84.0  18.988661          8.0          5.0     2000.0   \n",
      "\n",
      "   YearRemodAdd  MasVnrArea  BsmtFinSF1  BsmtFinSF2  ...  SaleType_6  \\\n",
      "0        2003.0    1.232972       706.0   -0.367905  ...           0   \n",
      "1        1976.0   -0.818200       978.0   -0.367905  ...           0   \n",
      "2        2002.0    1.196208       486.0   -0.367905  ...           0   \n",
      "3        1970.0   -0.818200       216.0   -0.367905  ...           0   \n",
      "4        2000.0    1.335067       655.0   -0.367905  ...           0   \n",
      "\n",
      "   SaleType_7  SaleType_8  SaleType_9  SaleCondition_0  SaleCondition_1  \\\n",
      "0           0           0           1                0                0   \n",
      "1           0           0           1                0                0   \n",
      "2           0           0           1                0                0   \n",
      "3           0           0           1                1                0   \n",
      "4           0           0           1                0                0   \n",
      "\n",
      "   SaleCondition_2  SaleCondition_3  SaleCondition_4  SaleCondition_5  \n",
      "0                0                0                1                0  \n",
      "1                0                0                1                0  \n",
      "2                0                0                1                0  \n",
      "3                0                0                0                0  \n",
      "4                0                0                1                0  \n",
      "\n",
      "[5 rows x 310 columns]\n"
     ]
    }
   ],
   "source": [
    "dt_final=numericorcategorical(df_imputed)\n",
    "print(dt_final.head())"
   ]
  },
  {
   "cell_type": "code",
   "execution_count": null,
   "metadata": {},
   "outputs": [],
   "source": []
  }
 ],
 "metadata": {
  "kernelspec": {
   "display_name": "Python 3",
   "language": "python",
   "name": "python3"
  },
  "language_info": {
   "codemirror_mode": {
    "name": "ipython",
    "version": 3
   },
   "file_extension": ".py",
   "mimetype": "text/x-python",
   "name": "python",
   "nbconvert_exporter": "python",
   "pygments_lexer": "ipython3",
   "version": "3.7.8"
  }
 },
 "nbformat": 4,
 "nbformat_minor": 4
}
